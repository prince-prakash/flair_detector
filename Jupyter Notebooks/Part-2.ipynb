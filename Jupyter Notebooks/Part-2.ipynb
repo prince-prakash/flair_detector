{
 "cells": [
  {
   "cell_type": "code",
   "execution_count": 1,
   "metadata": {},
   "outputs": [],
   "source": [
    "import os\n",
    "import pandas as pd\n",
    "import numpy as np\n",
    "import matplotlib.pyplot as plt\n",
    "import seaborn as sns"
   ]
  },
  {
   "cell_type": "code",
   "execution_count": 2,
   "metadata": {},
   "outputs": [],
   "source": [
    "# Importing the data\n",
    "infom = pd.read_csv('infom.csv')"
   ]
  },
  {
   "cell_type": "code",
   "execution_count": 3,
   "metadata": {},
   "outputs": [
    {
     "name": "stdout",
     "output_type": "stream",
     "text": [
      "<class 'pandas.core.frame.DataFrame'>\n",
      "RangeIndex: 100 entries, 0 to 99\n",
      "Data columns (total 5 columns):\n",
      " #   Column      Non-Null Count  Dtype \n",
      "---  ------      --------------  ----- \n",
      " 0   Unnamed: 0  100 non-null    int64 \n",
      " 1   Flair       99 non-null     object\n",
      " 2   Likes       100 non-null    int64 \n",
      " 3   Urls        100 non-null    object\n",
      " 4   Title       100 non-null    object\n",
      "dtypes: int64(2), object(3)\n",
      "memory usage: 4.0+ KB\n"
     ]
    }
   ],
   "source": [
    "#Information about the dataset\n",
    "infom.info()"
   ]
  },
  {
   "cell_type": "code",
   "execution_count": 4,
   "metadata": {},
   "outputs": [],
   "source": [
    "#Removing Unwanted Column\n",
    "infom =infom.drop('Unnamed: 0',axis=1)"
   ]
  },
  {
   "cell_type": "code",
   "execution_count": 5,
   "metadata": {},
   "outputs": [
    {
     "data": {
      "text/html": [
       "<div>\n",
       "<style scoped>\n",
       "    .dataframe tbody tr th:only-of-type {\n",
       "        vertical-align: middle;\n",
       "    }\n",
       "\n",
       "    .dataframe tbody tr th {\n",
       "        vertical-align: top;\n",
       "    }\n",
       "\n",
       "    .dataframe thead th {\n",
       "        text-align: right;\n",
       "    }\n",
       "</style>\n",
       "<table border=\"1\" class=\"dataframe\">\n",
       "  <thead>\n",
       "    <tr style=\"text-align: right;\">\n",
       "      <th></th>\n",
       "      <th>Flair</th>\n",
       "      <th>Likes</th>\n",
       "      <th>Urls</th>\n",
       "      <th>Title</th>\n",
       "    </tr>\n",
       "  </thead>\n",
       "  <tbody>\n",
       "    <tr>\n",
       "      <th>0</th>\n",
       "      <td>Coronavirus</td>\n",
       "      <td>77</td>\n",
       "      <td>https://www.reddit.com/r/india/comments/g1zi21...</td>\n",
       "      <td>Coronavirus (COVID-19) Megathread - News and U...</td>\n",
       "    </tr>\n",
       "    <tr>\n",
       "      <th>1</th>\n",
       "      <td>Coronavirus</td>\n",
       "      <td>3972</td>\n",
       "      <td>https://gfycat.com/pettyanotheranhinga</td>\n",
       "      <td>Police Officer feeding an amputee Monkey. ( Or...</td>\n",
       "    </tr>\n",
       "    <tr>\n",
       "      <th>2</th>\n",
       "      <td>Politics</td>\n",
       "      <td>757</td>\n",
       "      <td>https://i.redd.it/1jsn588fdbt41.jpg</td>\n",
       "      <td>Prime Time</td>\n",
       "    </tr>\n",
       "    <tr>\n",
       "      <th>3</th>\n",
       "      <td>Politics</td>\n",
       "      <td>408</td>\n",
       "      <td>https://www.reddit.com/r/india/comments/g2ws4w...</td>\n",
       "      <td>A friend spewed anti-muslim hate speech on Fac...</td>\n",
       "    </tr>\n",
       "    <tr>\n",
       "      <th>4</th>\n",
       "      <td>Non-Political</td>\n",
       "      <td>450</td>\n",
       "      <td>https://imgur.com/C2hDufa</td>\n",
       "      <td>I just noticed that Youtube India has started ...</td>\n",
       "    </tr>\n",
       "    <tr>\n",
       "      <th>...</th>\n",
       "      <td>...</td>\n",
       "      <td>...</td>\n",
       "      <td>...</td>\n",
       "      <td>...</td>\n",
       "    </tr>\n",
       "    <tr>\n",
       "      <th>95</th>\n",
       "      <td>Non-Political</td>\n",
       "      <td>4</td>\n",
       "      <td>https://theprint.in/india/education/civil-serv...</td>\n",
       "      <td>Civil servant-parents of Delhi's elite Sanskri...</td>\n",
       "    </tr>\n",
       "    <tr>\n",
       "      <th>96</th>\n",
       "      <td>Coronavirus</td>\n",
       "      <td>4</td>\n",
       "      <td>https://timesofindia.indiatimes.com/city/agra/...</td>\n",
       "      <td>Agra first 100-bed multispecialty Covid-19 fac...</td>\n",
       "    </tr>\n",
       "    <tr>\n",
       "      <th>97</th>\n",
       "      <td>AskIndia</td>\n",
       "      <td>13</td>\n",
       "      <td>https://www.reddit.com/r/india/comments/g2vdtd...</td>\n",
       "      <td>Help researchers understand how the COVID-19 P...</td>\n",
       "    </tr>\n",
       "    <tr>\n",
       "      <th>98</th>\n",
       "      <td>Non-Political</td>\n",
       "      <td>391</td>\n",
       "      <td>https://www.reddit.com/r/india/comments/g2ct57...</td>\n",
       "      <td>A polite request to all Indians here</td>\n",
       "    </tr>\n",
       "    <tr>\n",
       "      <th>99</th>\n",
       "      <td>Policy/Economy</td>\n",
       "      <td>5</td>\n",
       "      <td>http://pib.nic.in/newsite/PrintRelease.aspx?re...</td>\n",
       "      <td>PM lauds measures announced by RBI today; will...</td>\n",
       "    </tr>\n",
       "  </tbody>\n",
       "</table>\n",
       "<p>100 rows × 4 columns</p>\n",
       "</div>"
      ],
      "text/plain": [
       "             Flair  Likes                                               Urls  \\\n",
       "0      Coronavirus     77  https://www.reddit.com/r/india/comments/g1zi21...   \n",
       "1      Coronavirus   3972             https://gfycat.com/pettyanotheranhinga   \n",
       "2         Politics    757                https://i.redd.it/1jsn588fdbt41.jpg   \n",
       "3         Politics    408  https://www.reddit.com/r/india/comments/g2ws4w...   \n",
       "4    Non-Political    450                          https://imgur.com/C2hDufa   \n",
       "..             ...    ...                                                ...   \n",
       "95   Non-Political      4  https://theprint.in/india/education/civil-serv...   \n",
       "96     Coronavirus      4  https://timesofindia.indiatimes.com/city/agra/...   \n",
       "97        AskIndia     13  https://www.reddit.com/r/india/comments/g2vdtd...   \n",
       "98   Non-Political    391  https://www.reddit.com/r/india/comments/g2ct57...   \n",
       "99  Policy/Economy      5  http://pib.nic.in/newsite/PrintRelease.aspx?re...   \n",
       "\n",
       "                                                Title  \n",
       "0   Coronavirus (COVID-19) Megathread - News and U...  \n",
       "1   Police Officer feeding an amputee Monkey. ( Or...  \n",
       "2                                          Prime Time  \n",
       "3   A friend spewed anti-muslim hate speech on Fac...  \n",
       "4   I just noticed that Youtube India has started ...  \n",
       "..                                                ...  \n",
       "95  Civil servant-parents of Delhi's elite Sanskri...  \n",
       "96  Agra first 100-bed multispecialty Covid-19 fac...  \n",
       "97  Help researchers understand how the COVID-19 P...  \n",
       "98               A polite request to all Indians here  \n",
       "99  PM lauds measures announced by RBI today; will...  \n",
       "\n",
       "[100 rows x 4 columns]"
      ]
     },
     "execution_count": 5,
     "metadata": {},
     "output_type": "execute_result"
    }
   ],
   "source": [
    "#Removing duplicate datasets\n",
    "infom.drop_duplicates()"
   ]
  },
  {
   "cell_type": "code",
   "execution_count": 6,
   "metadata": {},
   "outputs": [
    {
     "data": {
      "text/html": [
       "<div>\n",
       "<style scoped>\n",
       "    .dataframe tbody tr th:only-of-type {\n",
       "        vertical-align: middle;\n",
       "    }\n",
       "\n",
       "    .dataframe tbody tr th {\n",
       "        vertical-align: top;\n",
       "    }\n",
       "\n",
       "    .dataframe thead th {\n",
       "        text-align: right;\n",
       "    }\n",
       "</style>\n",
       "<table border=\"1\" class=\"dataframe\">\n",
       "  <thead>\n",
       "    <tr style=\"text-align: right;\">\n",
       "      <th></th>\n",
       "      <th>Likes</th>\n",
       "    </tr>\n",
       "  </thead>\n",
       "  <tbody>\n",
       "    <tr>\n",
       "      <th>count</th>\n",
       "      <td>100.000000</td>\n",
       "    </tr>\n",
       "    <tr>\n",
       "      <th>mean</th>\n",
       "      <td>164.690000</td>\n",
       "    </tr>\n",
       "    <tr>\n",
       "      <th>std</th>\n",
       "      <td>517.683646</td>\n",
       "    </tr>\n",
       "    <tr>\n",
       "      <th>min</th>\n",
       "      <td>4.000000</td>\n",
       "    </tr>\n",
       "    <tr>\n",
       "      <th>25%</th>\n",
       "      <td>13.000000</td>\n",
       "    </tr>\n",
       "    <tr>\n",
       "      <th>50%</th>\n",
       "      <td>35.000000</td>\n",
       "    </tr>\n",
       "    <tr>\n",
       "      <th>75%</th>\n",
       "      <td>111.500000</td>\n",
       "    </tr>\n",
       "    <tr>\n",
       "      <th>max</th>\n",
       "      <td>3972.000000</td>\n",
       "    </tr>\n",
       "  </tbody>\n",
       "</table>\n",
       "</div>"
      ],
      "text/plain": [
       "             Likes\n",
       "count   100.000000\n",
       "mean    164.690000\n",
       "std     517.683646\n",
       "min       4.000000\n",
       "25%      13.000000\n",
       "50%      35.000000\n",
       "75%     111.500000\n",
       "max    3972.000000"
      ]
     },
     "execution_count": 6,
     "metadata": {},
     "output_type": "execute_result"
    }
   ],
   "source": [
    "#Summary statistics (describing the likenss of the content posted )\n",
    "infom.describe()"
   ]
  },
  {
   "cell_type": "code",
   "execution_count": 7,
   "metadata": {},
   "outputs": [],
   "source": [
    "#Removing NaN values from flair column\n",
    "infom['Flair'] = infom['Flair'].fillna('Nothing')"
   ]
  },
  {
   "cell_type": "code",
   "execution_count": 8,
   "metadata": {},
   "outputs": [
    {
     "name": "stdout",
     "output_type": "stream",
     "text": [
      "Flair\n",
      "AskIndia               6\n",
      "Coronavirus           57\n",
      "Non-Political         15\n",
      "Nothing                1\n",
      "Photography            1\n",
      "Policy/Economy         3\n",
      "Politics              16\n",
      "Science/Technology     1\n",
      "dtype: int64\n"
     ]
    }
   ],
   "source": [
    "#count by Catagory \n",
    "dup = infom.groupby('Flair').size()\n",
    "print(dup)"
   ]
  },
  {
   "cell_type": "code",
   "execution_count": 9,
   "metadata": {},
   "outputs": [
    {
     "data": {
      "text/plain": [
       "<matplotlib.axes._subplots.AxesSubplot at 0x15c242b2688>"
      ]
     },
     "execution_count": 9,
     "metadata": {},
     "output_type": "execute_result"
    },
    {
     "data": {
      "image/png": "[encoded data removed]",
      "text/plain": [
       "<Figure size 432x288 with 1 Axes>"
      ]
     },
     "metadata": {
      "needs_background": "light"
     },
     "output_type": "display_data"
    }
   ],
   "source": [
    "#Graphical represenation describing the catagory most used by the users\n",
    "dup.plot()"
   ]
  },
  {
   "cell_type": "code",
   "execution_count": 10,
   "metadata": {},
   "outputs": [
    {
     "data": {
      "image/png": "[encoded data removed]",
      "text/plain": [
       "<Figure size 432x288 with 1 Axes>"
      ]
     },
     "metadata": {
      "needs_background": "light"
     },
     "output_type": "display_data"
    }
   ],
   "source": [
    "#Graphical represntation defining the users likeness for catogories\n",
    "box = sns.boxplot(y= 'Flair', x='Likes', data=infom)"
   ]
  },
  {
   "cell_type": "markdown",
   "metadata": {},
   "source": [
    "Coronavirus catagories is used at maximum (will change with time)"
   ]
  },
  {
   "cell_type": "markdown",
   "metadata": {},
   "source": [
    "(self.india) domain is used maximum (may change with time)"
   ]
  }
 ],
 "metadata": {
  "kernelspec": {
   "display_name": "Python 3",
   "language": "python",
   "name": "python3"
  },
  "language_info": {
   "codemirror_mode": {
    "name": "ipython",
    "version": 3
   },
   "file_extension": ".py",
   "mimetype": "text/x-python",
   "name": "python",
   "nbconvert_exporter": "python",
   "pygments_lexer": "ipython3",
   "version": "3.7.6"
  }
 },
 "nbformat": 4,
 "nbformat_minor": 4
}
