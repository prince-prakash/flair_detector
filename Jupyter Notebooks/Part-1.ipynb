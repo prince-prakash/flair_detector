{
 "cells": [
  {
   "cell_type": "code",
   "execution_count": 1,
   "metadata": {},
   "outputs": [],
   "source": [
    "#Importing Libraries\n",
    "import praw\n",
    "from praw.models import MoreComments\n",
    "import pandas as pd"
   ]
  },
  {
   "cell_type": "code",
   "execution_count": 2,
   "metadata": {},
   "outputs": [],
   "source": [
    "#Providing connection to the Reddit\n",
    "reddit = praw.Reddit(client_id = 'R2GnttAZv61_mA',\n",
    "                    client_secret = 'BHX_WYSAzRAKlO1MDH56NeHw18Q',\n",
    "                    user_agent = 'MIDAS',\n",
    "                    username = 'dawjon',\n",
    "                    password = 'Rapid@143')"
   ]
  },
  {
   "cell_type": "code",
   "execution_count": 3,
   "metadata": {},
   "outputs": [],
   "source": [
    "subred = reddit.subreddit(\"india\") #Providing subreddit search"
   ]
  },
  {
   "cell_type": "code",
   "execution_count": 4,
   "metadata": {},
   "outputs": [],
   "source": [
    "#Categories subreddit search analysis\n",
    "hot = subred.hot(limit=100)\n",
    "new = subred.new(limit=51)"
   ]
  },
  {
   "cell_type": "code",
   "execution_count": 5,
   "metadata": {},
   "outputs": [],
   "source": [
    "run = next(hot) #Move to next object"
   ]
  },
  {
   "cell_type": "code",
   "execution_count": 6,
   "metadata": {},
   "outputs": [],
   "source": [
    "dir(run) #Show the object variables"
   ]
  },
  {
   "cell_type": "code",
   "execution_count": 7,
   "metadata": {},
   "outputs": [],
   "source": [
    "#Specify the neccessary result outputs\n",
    "flair, up = [], []\n",
    "comments, urls = [], []\n",
    "domain, title = [], []\n",
    "for i in hot:\n",
    "    flair.append(i.link_flair_text)\n",
    "    up.append(i.ups)\n",
    "    urls.append(i.url)\n",
    "    title.append(i.title)\n",
    "    domain.append(i.domain)\n",
    "    com = []\n",
    "    for comment in i.comments:\n",
    "        if isinstance(comment, MoreComments):\n",
    "            continue\n",
    "        com.append(comment.body)\n",
    "    comments.append(com)\n",
    "        \n",
    "    \n",
    "# Data Storage Area    \n",
    "df = pd.DataFrame({\n",
    "    'Flair':flair,\n",
    "    'Likes': up,\n",
    "    'Domains':domain,\n",
    "    'Urls':urls,\n",
    "    'Title': title,\n",
    "    'Comments': comments\n",
    "})"
   ]
  },
  {
   "cell_type": "code",
   "execution_count": 8,
   "metadata": {},
   "outputs": [
    {
     "name": "stdout",
     "output_type": "stream",
     "text": [
      "            Flair  Likes                      Domains  \\\n",
      "0     Coronavirus    139                   self.india   \n",
      "1       Scheduled     30                   self.india   \n",
      "2   Non-Political   1762                    i.redd.it   \n",
      "3            None    232                    i.redd.it   \n",
      "4        Politics    737                    i.redd.it   \n",
      "..            ...    ...                          ...   \n",
      "95    Coronavirus     32  timesofindia.indiatimes.com   \n",
      "96       Politics     11                 thehindu.com   \n",
      "97    Coronavirus     12                pbs.twimg.com   \n",
      "98    Coronavirus     15          m.economictimes.com   \n",
      "99       AskIndia      9                   self.india   \n",
      "\n",
      "                                                 Urls  \\\n",
      "0   https://www.reddit.com/r/india/comments/g1zi21...   \n",
      "1   https://www.reddit.com/r/india/comments/g4d2ix...   \n",
      "2                 https://i.redd.it/tt6t9rjqhxt41.jpg   \n",
      "3                 https://i.redd.it/uca2xcdblzt41.jpg   \n",
      "4                 https://i.redd.it/fvgic0milxt41.jpg   \n",
      "..                                                ...   \n",
      "95  https://timesofindia.indiatimes.com/city/goa/w...   \n",
      "96  https://www.thehindu.com/news/national/islamop...   \n",
      "97  https://pbs.twimg.com/media/EWA1Il4XgAEXhGa?fo...   \n",
      "98  https://m.economictimes.com/industry/healthcar...   \n",
      "99  https://www.reddit.com/r/india/comments/g4wvwv...   \n",
      "\n",
      "                                                Title  \\\n",
      "0   Coronavirus (COVID-19) Megathread - News and U...   \n",
      "1   [Monthly Happiness Thread] Randians, please sh...   \n",
      "2   Was going through my grandpa’s stuffs and foun...   \n",
      "3   Good evening y’all! Mughal (Akbar) silver rupe...   \n",
      "4   Brutal Palghar lynching during Corona lockdown...   \n",
      "..                                                ...   \n",
      "95  With strict protocols in place, Goa partially ...   \n",
      "96  Islamophobia is rising in India, says Organisa...   \n",
      "97                         Cartoon by Hemant Morparia   \n",
      "98  Experts criticise India’s endorsement for use ...   \n",
      "99               Need an urgent help regarding Paytm.   \n",
      "\n",
      "                                             Comments  \n",
      "0   [###[Covid-19 Fundraisers & Donation Links](ht...  \n",
      "1   [Working from home since past one month. For s...  \n",
      "2   [*simon go back intensifies*, I have many such...  \n",
      "3   [\\n>Mughal\\n\\nBhaktbots, assemble., Wow. Must ...  \n",
      "4   [How come the police beat people up for going ...  \n",
      "..                                                ...  \n",
      "95  [People of Goa who endured the strict measures...  \n",
      "96  [Downvoting this post won’t change the fact th...  \n",
      "97  [Source: https://twitter.com/MumbaiMirror/stat...  \n",
      "98  [But Trumpji says we don't have anything to lo...  \n",
      "99  [Why would you do this when you can Self-Trans...  \n",
      "\n",
      "[100 rows x 6 columns]\n"
     ]
    }
   ],
   "source": [
    "print(df)"
   ]
  },
  {
   "cell_type": "code",
   "execution_count": 9,
   "metadata": {},
   "outputs": [],
   "source": [
    "df.to_csv('infom.csv')  #Data File saved (Note: Uncomment Only when needed)"
   ]
  },
  {
   "cell_type": "code",
   "execution_count": null,
   "metadata": {},
   "outputs": [],
   "source": []
  },
  {
   "cell_type": "code",
   "execution_count": null,
   "metadata": {},
   "outputs": [],
   "source": []
  },
  {
   "cell_type": "code",
   "execution_count": null,
   "metadata": {},
   "outputs": [],
   "source": []
  }
 ],
 "metadata": {
  "kernelspec": {
   "display_name": "Python 3",
   "language": "python",
   "name": "python3"
  },
  "language_info": {
   "codemirror_mode": {
    "name": "ipython",
    "version": 3
   },
   "file_extension": ".py",
   "mimetype": "text/x-python",
   "name": "python",
   "nbconvert_exporter": "python",
   "pygments_lexer": "ipython3",
   "version": "3.7.6"
  }
 },
 "nbformat": 4,
 "nbformat_minor": 4
}
